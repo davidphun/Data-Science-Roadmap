{
 "cells": [
  {
   "cell_type": "markdown",
   "metadata": {},
   "source": [
    "# Numpy"
   ]
  },
  {
   "cell_type": "code",
   "execution_count": 1,
   "metadata": {},
   "outputs": [],
   "source": [
    "import numpy as np"
   ]
  },
  {
   "cell_type": "code",
   "execution_count": 2,
   "metadata": {},
   "outputs": [
    {
     "name": "stdout",
     "output_type": "stream",
     "text": [
      "One dimensional array: \n",
      "[1 2 3 4 5]\n",
      "(5,)\n",
      "Two dimensional array: \n",
      "[[1 2 3]\n",
      " [4 5 6]]\n",
      "(2, 3)\n"
     ]
    }
   ],
   "source": [
    "## Initialize array\n",
    "\n",
    "one_dim_array = np.array((1, 2, 3, 4, 5))\n",
    "print('One dimensional array: ')\n",
    "print(one_dim_array)\n",
    "print(one_dim_array.shape)\n",
    "two_dim_array = np.array(((1, 2, 3), (4, 5, 6)))\n",
    "print('Two dimensional array: ')\n",
    "print(two_dim_array)\n",
    "print(two_dim_array.shape)\n"
   ]
  },
  {
   "cell_type": "code",
   "execution_count": 3,
   "metadata": {},
   "outputs": [
    {
     "name": "stdout",
     "output_type": "stream",
     "text": [
      "['1' 'a' 'True' '10.0']\n",
      "[1. 2. 5. 6. 1.]\n",
      "[1 2 0 6]\n",
      "The auto-cast priority is going to be: String > Float > Integer > Boolean\n"
     ]
    }
   ],
   "source": [
    "# Auto-cast element type in numpy array\n",
    "\n",
    "string_array = np.array((1, 'a', True, 10.))\n",
    "print(string_array)\n",
    "float_array = np.array((1., 2, 5, 6, True))\n",
    "print(float_array)\n",
    "integer_array = np.array((1, 2, False, 6))\n",
    "print(integer_array)\n",
    "\n",
    "print('The auto-cast priority is going to be: String > Float > Integer > Boolean')"
   ]
  },
  {
   "cell_type": "markdown",
   "metadata": {},
   "source": [
    "### Array vs List concatenation "
   ]
  },
  {
   "cell_type": "code",
   "execution_count": 4,
   "metadata": {},
   "outputs": [
    {
     "name": "stdout",
     "output_type": "stream",
     "text": [
      "Concatenated python list:  [1, 2, 3, 4, 5, 6]\n",
      "Concatenated numpy array:  [5 7 9]\n"
     ]
    }
   ],
   "source": [
    "python_list_1 = [1, 2, 3]\n",
    "python_list_2 = [4, 5, 6]\n",
    "print('Concatenated python list: ', python_list_1 + python_list_2)\n",
    "\n",
    "np_array_1 = np.array((1, 2, 3))\n",
    "np_array_2 = np.array((4, 5, 6))\n",
    "print('Concatenated numpy array: ', np_array_1 + np_array_2)"
   ]
  },
  {
   "cell_type": "markdown",
   "metadata": {},
   "source": [
    "# Iterator"
   ]
  },
  {
   "cell_type": "markdown",
   "metadata": {},
   "source": [
    "### Iterator properties"
   ]
  },
  {
   "cell_type": "code",
   "execution_count": 5,
   "metadata": {},
   "outputs": [
    {
     "name": "stdout",
     "output_type": "stream",
     "text": [
      "<list_iterator object at 0x000001E61AB06588>\n"
     ]
    },
    {
     "ename": "NameError",
     "evalue": "name 'lst' is not defined",
     "output_type": "error",
     "traceback": [
      "\u001b[1;31m---------------------------------------------------------------------------\u001b[0m",
      "\u001b[1;31mNameError\u001b[0m                                 Traceback (most recent call last)",
      "\u001b[1;32m<ipython-input-5-13610a5ab196>\u001b[0m in \u001b[0;36m<module>\u001b[1;34m\u001b[0m\n\u001b[0;32m      2\u001b[0m \u001b[0miterator\u001b[0m \u001b[1;33m=\u001b[0m \u001b[0miter\u001b[0m\u001b[1;33m(\u001b[0m\u001b[0miterable_lst\u001b[0m\u001b[1;33m)\u001b[0m\u001b[1;33m\u001b[0m\u001b[1;33m\u001b[0m\u001b[0m\n\u001b[0;32m      3\u001b[0m \u001b[0mprint\u001b[0m\u001b[1;33m(\u001b[0m\u001b[0miterator\u001b[0m\u001b[1;33m)\u001b[0m\u001b[1;33m\u001b[0m\u001b[1;33m\u001b[0m\u001b[0m\n\u001b[1;32m----> 4\u001b[1;33m \u001b[1;32mfor\u001b[0m \u001b[0mi\u001b[0m \u001b[1;32min\u001b[0m \u001b[0mrange\u001b[0m\u001b[1;33m(\u001b[0m\u001b[0mlen\u001b[0m\u001b[1;33m(\u001b[0m\u001b[0mlst\u001b[0m\u001b[1;33m)\u001b[0m\u001b[1;33m)\u001b[0m\u001b[1;33m:\u001b[0m\u001b[1;33m\u001b[0m\u001b[1;33m\u001b[0m\u001b[0m\n\u001b[0m\u001b[0;32m      5\u001b[0m     \u001b[0mprint\u001b[0m\u001b[1;33m(\u001b[0m\u001b[0mnext\u001b[0m\u001b[1;33m(\u001b[0m\u001b[0miterator\u001b[0m\u001b[1;33m)\u001b[0m\u001b[1;33m)\u001b[0m\u001b[1;33m\u001b[0m\u001b[1;33m\u001b[0m\u001b[0m\n\u001b[0;32m      6\u001b[0m \u001b[1;33m\u001b[0m\u001b[0m\n",
      "\u001b[1;31mNameError\u001b[0m: name 'lst' is not defined"
     ]
    }
   ],
   "source": [
    "iterable_lst = [0, 1, 2, 3, 4, 5]\n",
    "iterator = iter(iterable_lst)\n",
    "print(iterator)\n",
    "for i in range(len(lst)):\n",
    "    print(next(iterator))\n",
    "    \n",
    "# This line would produce an error since all items are already retrieved\n",
    "print(next(iterator))"
   ]
  },
  {
   "cell_type": "markdown",
   "metadata": {},
   "source": [
    "### Zip - Create a list of tuple where each tuple is comprised of two elements from two lists of same size having  identical order"
   ]
  },
  {
   "cell_type": "code",
   "execution_count": 6,
   "metadata": {},
   "outputs": [
    {
     "name": "stdout",
     "output_type": "stream",
     "text": [
      "Index: 1 \t Value: a\n",
      "Index: 2 \t Value: b\n",
      "Index: 3 \t Value: c\n"
     ]
    }
   ],
   "source": [
    "lst_1 = np.array([1, 2, 3])\n",
    "lst_2 = np.array(['a', 'b', 'c'])\n",
    "for idx, val in zip(lst_1, lst_2):\n",
    "    print('Index: {1} \\t Value: {0}'.format(val, idx)) # {0}, {1} are subjected to the order of objects to be printed \n",
    "    "
   ]
  },
  {
   "cell_type": "markdown",
   "metadata": {},
   "source": [
    "### Enumerate - Create a list of tuple, in which each tuple has an incremental index and an element-in-given-list, from a given list"
   ]
  },
  {
   "cell_type": "code",
   "execution_count": 7,
   "metadata": {},
   "outputs": [
    {
     "name": "stdout",
     "output_type": "stream",
     "text": [
      "Index: 0 \t Value: a\n",
      "Index: 1 \t Value: b\n",
      "Index: 2 \t Value: c\n",
      "Index: 3 \t Value: d\n",
      "Index: 4 \t Value: e\n"
     ]
    }
   ],
   "source": [
    "lst = ['a', 'b', 'c', 'd', 'e']\n",
    "for idx, val in enumerate(lst):\n",
    "    print('Index: {i} \\t Value: {v}'.format(i=idx, v=val))"
   ]
  },
  {
   "cell_type": "markdown",
   "metadata": {},
   "source": [
    "## List comprehension"
   ]
  },
  {
   "cell_type": "markdown",
   "metadata": {},
   "source": [
    "### Single loop"
   ]
  },
  {
   "cell_type": "code",
   "execution_count": 8,
   "metadata": {},
   "outputs": [
    {
     "name": "stdout",
     "output_type": "stream",
     "text": [
      "Normal approach\n",
      "[0. 1. 2. 3. 4.]\n",
      "List comprehension approach\n",
      "[0, 1, 2, 3, 4]\n"
     ]
    }
   ],
   "source": [
    "a = np.empty(5)\n",
    "print('Normal approach')\n",
    "inc = 0\n",
    "for i in range(len(a)):\n",
    "    a[i] = inc\n",
    "    inc += 1\n",
    "print(a)\n",
    "print('List comprehension approach')\n",
    "print([i for i in range(5)])"
   ]
  },
  {
   "cell_type": "markdown",
   "metadata": {},
   "source": [
    "### Nested loop"
   ]
  },
  {
   "cell_type": "code",
   "execution_count": 9,
   "metadata": {},
   "outputs": [
    {
     "name": "stdout",
     "output_type": "stream",
     "text": [
      "Normal approach\n",
      "\n",
      "Numpy array: \n",
      "[[0. 1. 2. 3.]\n",
      " [1. 2. 3. 4.]]\n",
      "List: \n",
      "[[1, 2, 3, 4], [1, 2, 3, 4]]\n",
      "\n",
      "\n",
      "List comprehension approach\n",
      "[[0, 1, 2, 3], [1, 2, 3, 4]]\n"
     ]
    }
   ],
   "source": [
    "a = np.empty((2, 4))\n",
    "for i in range(a.shape[0]):\n",
    "    for j in range(a.shape[1]):\n",
    "        a[i][j] = i + j\n",
    "print('Normal approach\\n')\n",
    "print('Numpy array: \\n{}'.format(a))\n",
    "a = [[0] * 4] * 2\n",
    "for i in range(len(a)):\n",
    "    for j in range(len(a[0])):\n",
    "        a[i][j] = i + j\n",
    "print('List: \\n{}'.format(a))\n",
    "print('\\n')\n",
    "print('List comprehension approach')\n",
    "b = [[i + j for j in range(4)] for i in range(2)]\n",
    "print(b)\n"
   ]
  },
  {
   "cell_type": "markdown",
   "metadata": {},
   "source": [
    "### Conditional list comprehension"
   ]
  },
  {
   "cell_type": "markdown",
   "metadata": {},
   "source": [
    "#### Conditionals on output expression"
   ]
  },
  {
   "cell_type": "code",
   "execution_count": 10,
   "metadata": {},
   "outputs": [
    {
     "name": "stdout",
     "output_type": "stream",
     "text": [
      "Normal approach\n",
      "[0, 0, 4, 0, 16, 0, 36, 0, 64, 0]\n",
      "List comprehension approach\n",
      "[0, 0, 4, 0, 16, 0, 36, 0, 64, 0]\n"
     ]
    }
   ],
   "source": [
    "a = [0] * 10\n",
    "print('Normal approach')\n",
    "for i in range(10):\n",
    "    a[i] = i ** 2 if i % 2 == 0 else 0\n",
    "print(a)\n",
    "print('List comprehension approach')\n",
    "print([i ** 2 if i % 2 == 0 else 0 for i in range(10)])"
   ]
  },
  {
   "cell_type": "markdown",
   "metadata": {},
   "source": [
    "#### Conditionals on iterable"
   ]
  },
  {
   "cell_type": "code",
   "execution_count": 11,
   "metadata": {},
   "outputs": [
    {
     "name": "stdout",
     "output_type": "stream",
     "text": [
      "Normal approach\n",
      "[0, 4, 16, 36, 64]\n",
      "List comprehension approach\n",
      "[0, 4, 16, 36, 64]\n"
     ]
    }
   ],
   "source": [
    "a = []\n",
    "print('Normal approach')\n",
    "for i in range(10):\n",
    "    if i % 2 == 0:\n",
    "        a.append(i ** 2)\n",
    "print(a)\n",
    "print('List comprehension approach')\n",
    "print([i ** 2 for i in range(10) if i % 2 == 0])"
   ]
  },
  {
   "cell_type": "markdown",
   "metadata": {},
   "source": [
    "#### Exercise\n",
    "Given a list of 5 numbers starting from 0 to 4\n",
    "\n",
    "-> Create a matrix that has odd rows where each row contains all squared-even numbers in the list and even rows where each row includes all cubed-odd numbers in the list also."
   ]
  },
  {
   "cell_type": "code",
   "execution_count": 12,
   "metadata": {},
   "outputs": [
    {
     "name": "stdout",
     "output_type": "stream",
     "text": [
      "[[1, 27], [0, 4, 16], [1, 27], [0, 4, 16], [1, 27]]\n"
     ]
    }
   ],
   "source": [
    "print([[j ** 3 for j in range(5) if j % 2 != 0] \\\n",
    "           if i % 2 == 0 else \\\n",
    "       [j ** 2 for j in range(5) if j % 2 == 0] \\\n",
    "           for i in range(5)])"
   ]
  },
  {
   "cell_type": "code",
   "execution_count": null,
   "metadata": {},
   "outputs": [],
   "source": []
  }
 ],
 "metadata": {
  "kernelspec": {
   "display_name": "Python 3",
   "language": "python",
   "name": "python3"
  },
  "language_info": {
   "codemirror_mode": {
    "name": "ipython",
    "version": 3
   },
   "file_extension": ".py",
   "mimetype": "text/x-python",
   "name": "python",
   "nbconvert_exporter": "python",
   "pygments_lexer": "ipython3",
   "version": "3.7.3"
  }
 },
 "nbformat": 4,
 "nbformat_minor": 2
}

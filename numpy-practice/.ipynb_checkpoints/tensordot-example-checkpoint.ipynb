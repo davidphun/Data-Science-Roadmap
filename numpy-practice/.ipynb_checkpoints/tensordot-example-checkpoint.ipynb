{
 "cells": [
  {
   "cell_type": "code",
   "execution_count": 1,
   "metadata": {},
   "outputs": [],
   "source": [
    "import numpy as np"
   ]
  },
  {
   "cell_type": "code",
   "execution_count": 2,
   "metadata": {},
   "outputs": [],
   "source": [
    "a = np.arange(60.).reshape(3,4,5)"
   ]
  },
  {
   "cell_type": "code",
   "execution_count": 3,
   "metadata": {},
   "outputs": [
    {
     "data": {
      "text/plain": [
       "array([[[ 0.,  1.,  2.,  3.,  4.],\n",
       "        [ 5.,  6.,  7.,  8.,  9.],\n",
       "        [10., 11., 12., 13., 14.],\n",
       "        [15., 16., 17., 18., 19.]],\n",
       "\n",
       "       [[20., 21., 22., 23., 24.],\n",
       "        [25., 26., 27., 28., 29.],\n",
       "        [30., 31., 32., 33., 34.],\n",
       "        [35., 36., 37., 38., 39.]],\n",
       "\n",
       "       [[40., 41., 42., 43., 44.],\n",
       "        [45., 46., 47., 48., 49.],\n",
       "        [50., 51., 52., 53., 54.],\n",
       "        [55., 56., 57., 58., 59.]]])"
      ]
     },
     "execution_count": 3,
     "metadata": {},
     "output_type": "execute_result"
    }
   ],
   "source": [
    "a"
   ]
  },
  {
   "cell_type": "code",
   "execution_count": 4,
   "metadata": {},
   "outputs": [],
   "source": [
    "b = np.arange(24.).reshape(4,3,2)"
   ]
  },
  {
   "cell_type": "code",
   "execution_count": 5,
   "metadata": {},
   "outputs": [
    {
     "data": {
      "text/plain": [
       "array([[[ 0.,  1.],\n",
       "        [ 2.,  3.],\n",
       "        [ 4.,  5.]],\n",
       "\n",
       "       [[ 6.,  7.],\n",
       "        [ 8.,  9.],\n",
       "        [10., 11.]],\n",
       "\n",
       "       [[12., 13.],\n",
       "        [14., 15.],\n",
       "        [16., 17.]],\n",
       "\n",
       "       [[18., 19.],\n",
       "        [20., 21.],\n",
       "        [22., 23.]]])"
      ]
     },
     "execution_count": 5,
     "metadata": {},
     "output_type": "execute_result"
    }
   ],
   "source": [
    "b"
   ]
  },
  {
   "cell_type": "code",
   "execution_count": 6,
   "metadata": {},
   "outputs": [],
   "source": [
    "c = np.tensordot(a,b, axes=([0,1],[1,0]))"
   ]
  },
  {
   "cell_type": "code",
   "execution_count": 7,
   "metadata": {},
   "outputs": [
    {
     "data": {
      "text/plain": [
       "array([[4400., 4730.],\n",
       "       [4532., 4874.],\n",
       "       [4664., 5018.],\n",
       "       [4796., 5162.],\n",
       "       [4928., 5306.]])"
      ]
     },
     "execution_count": 7,
     "metadata": {},
     "output_type": "execute_result"
    }
   ],
   "source": [
    "c"
   ]
  },
  {
   "cell_type": "code",
   "execution_count": 8,
   "metadata": {},
   "outputs": [],
   "source": [
    "d = np.zeros((5,2))"
   ]
  },
  {
   "cell_type": "code",
   "execution_count": 9,
   "metadata": {},
   "outputs": [],
   "source": [
    "for i in range(5):\n",
    "    for j in range(2):\n",
    "        for k in range(3):\n",
    "            for n in range(4):\n",
    "                d[i,j] += a[k,n,i] * b[n,k,j]"
   ]
  },
  {
   "cell_type": "code",
   "execution_count": 10,
   "metadata": {},
   "outputs": [
    {
     "data": {
      "text/plain": [
       "array([[4400., 4730.],\n",
       "       [4532., 4874.],\n",
       "       [4664., 5018.],\n",
       "       [4796., 5162.],\n",
       "       [4928., 5306.]])"
      ]
     },
     "execution_count": 10,
     "metadata": {},
     "output_type": "execute_result"
    }
   ],
   "source": [
    "d"
   ]
  },
  {
   "cell_type": "markdown",
   "metadata": {},
   "source": [
    "## Enstein Summation"
   ]
  },
  {
   "cell_type": "code",
   "execution_count": 11,
   "metadata": {},
   "outputs": [],
   "source": [
    "A = np.array([0, 1, 2])\n",
    "\n",
    "B = np.array([[ 0,  1,  2,  3],\n",
    "              [ 4,  5,  6,  7],\n",
    "              [ 8,  9, 10, 11]])"
   ]
  },
  {
   "cell_type": "code",
   "execution_count": 12,
   "metadata": {},
   "outputs": [
    {
     "data": {
      "text/plain": [
       "array([[ 0,  0,  0,  0],\n",
       "       [ 4,  5,  6,  7],\n",
       "       [16, 18, 20, 22]])"
      ]
     },
     "execution_count": 12,
     "metadata": {},
     "output_type": "execute_result"
    }
   ],
   "source": [
    "A[:, np.newaxis] * B"
   ]
  },
  {
   "cell_type": "code",
   "execution_count": 13,
   "metadata": {},
   "outputs": [
    {
     "data": {
      "text/plain": [
       "array([ 0, 22, 76])"
      ]
     },
     "execution_count": 13,
     "metadata": {},
     "output_type": "execute_result"
    }
   ],
   "source": [
    "# summation of columns\n",
    "# 0 = 0 + 0 + 0 + 0\n",
    "# 22 = 4 + 5 + 6 + 7\n",
    "# 76 = 16 + 18 + 20 + 22\n",
    "# 0-axis means summation of rows\n",
    "# 1-axis means summation of cols\n",
    "(A[:, np.newaxis] * B).sum(axis=1)"
   ]
  },
  {
   "cell_type": "code",
   "execution_count": 14,
   "metadata": {},
   "outputs": [
    {
     "data": {
      "text/plain": [
       "array([ 0, 22, 76])"
      ]
     },
     "execution_count": 14,
     "metadata": {},
     "output_type": "execute_result"
    }
   ],
   "source": [
    "# A.shape = (3,) || 1x3\n",
    "# B.shape = (3, 4) || 3x4\n",
    "# LHS of \"->\" to label the input arrays\n",
    "# RHS of \"->\" to label the intended output array\n",
    "# A has 1 axis -> labelled as i\n",
    "# B has 2 axes -> labelled as i & j\n",
    "# Both A & B has the same label i -> to tell the einsum that this common axis should be multiplied together\n",
    "# <=> element-wise mult of array A with col of array B\n",
    "# <=> A[:, np.newaxis] * B\n",
    "# RHS == i means that the output array should have the same dim of axis i\n",
    "# <=> output.shape: (3,) || axis=1\n",
    "np.einsum('i,ij->i', A, B)"
   ]
  },
  {
   "cell_type": "code",
   "execution_count": 15,
   "metadata": {},
   "outputs": [
    {
     "data": {
      "text/plain": [
       "array([20, 23, 26, 29])"
      ]
     },
     "execution_count": 15,
     "metadata": {},
     "output_type": "execute_result"
    }
   ],
   "source": [
    "# RHS == i means that the output array should have the same dim of axis j\n",
    "# <=> output.shape: (4,) || axis=0\n",
    "np.einsum('i,ij->j', A, B)"
   ]
  },
  {
   "cell_type": "markdown",
   "metadata": {},
   "source": [
    "### Bigger example"
   ]
  },
  {
   "cell_type": "code",
   "execution_count": 16,
   "metadata": {},
   "outputs": [],
   "source": [
    "A = np.array([[1, 1, 1],\n",
    "              [2, 2, 2],\n",
    "              [5, 5, 5]])\n",
    "\n",
    "B = np.array([[0, 1, 0],\n",
    "              [1, 1, 0],\n",
    "              [1, 1, 1]])"
   ]
  },
  {
   "cell_type": "code",
   "execution_count": 17,
   "metadata": {},
   "outputs": [
    {
     "name": "stdout",
     "output_type": "stream",
     "text": [
      "[[ 2  3  1]\n",
      " [ 4  6  2]\n",
      " [10 15  5]]\n",
      "\n",
      "\n",
      "[[ 2  3  1]\n",
      " [ 4  6  2]\n",
      " [10 15  5]]\n"
     ]
    }
   ],
   "source": [
    "# Normal matrix mult\n",
    "print(np.einsum('ij,jk->ik', A, B))\n",
    "print('\\n')\n",
    "C = A.dot(B)\n",
    "print(C)"
   ]
  },
  {
   "cell_type": "code",
   "execution_count": 18,
   "metadata": {},
   "outputs": [
    {
     "name": "stdout",
     "output_type": "stream",
     "text": [
      "[ 6 12 30]\n",
      "\n",
      "\n",
      "[ 6 12 30]\n"
     ]
    }
   ],
   "source": [
    "# Normal matrix mult -> sum along 1-axis\n",
    "print(np.einsum('ij,jk->i', A, B))\n",
    "print('\\n')\n",
    "print(C.sum(axis=1))"
   ]
  },
  {
   "cell_type": "code",
   "execution_count": 19,
   "metadata": {},
   "outputs": [
    {
     "name": "stdout",
     "output_type": "stream",
     "text": [
      "[16 24  8]\n",
      "\n",
      "\n",
      "[16 24  8]\n"
     ]
    }
   ],
   "source": [
    "# Normal matrix mult -> sum along 0-axis\n",
    "print(np.einsum('ij,jk->k', A, B))\n",
    "print('\\n')\n",
    "print(C.sum(axis=0))"
   ]
  },
  {
   "cell_type": "code",
   "execution_count": null,
   "metadata": {},
   "outputs": [],
   "source": []
  }
 ],
 "metadata": {
  "kernelspec": {
   "display_name": "Python 3",
   "language": "python",
   "name": "python3"
  },
  "language_info": {
   "codemirror_mode": {
    "name": "ipython",
    "version": 3
   },
   "file_extension": ".py",
   "mimetype": "text/x-python",
   "name": "python",
   "nbconvert_exporter": "python",
   "pygments_lexer": "ipython3",
   "version": "3.6.7"
  }
 },
 "nbformat": 4,
 "nbformat_minor": 2
}
